{
 "cells": [
  {
   "cell_type": "markdown",
   "metadata": {},
   "source": [
    "# โจทย์: Automate SQL ได้ไหม?\n"
   ]
  },
  {
   "cell_type": "markdown",
   "metadata": {},
   "source": [
    "## SQLite with Python"
   ]
  },
  {
   "cell_type": "code",
   "execution_count": 1,
   "metadata": {},
   "outputs": [],
   "source": [
    "# เปลี่ยนจาก sqlite3 เป็น sqlalchemy\n",
    "from sqlalchemy import create_engine, text\n",
    "\n",
    "# สร้าง engine แทนการใช้ connect โดยตรง\n",
    "engine = create_engine('sqlite:///mysqlite01.db')\n",
    "\n",
    "# สร้างตาราง products ด้วย engine.execute\n",
    "with engine.connect() as conn:\n",
    "    conn.execute(text('''\n",
    "    CREATE TABLE IF NOT EXISTS products (\n",
    "        product_id INTEGER PRIMARY KEY,\n",
    "        name TEXT NOT NULL,\n",
    "        price REAL NOT NULL,\n",
    "        category TEXT\n",
    "    )\n",
    "    '''))\n",
    "\n",
    "    # สร้างตาราง orders\n",
    "    conn.execute(text('''\n",
    "    CREATE TABLE IF NOT EXISTS orders (\n",
    "        order_id INTEGER PRIMARY KEY,\n",
    "        product_id INTEGER,\n",
    "        quantity INTEGER,\n",
    "        order_date TEXT\n",
    "    )\n",
    "    '''))"
   ]
  },
  {
   "cell_type": "code",
   "execution_count": 2,
   "metadata": {},
   "outputs": [],
   "source": [
    "with engine.connect() as conn:\n",
    "    # เพิ่มข้อมูลในตาราง products\n",
    "    conn.execute(text('''\n",
    "    INSERT INTO products (name, price, category)\n",
    "    VALUES ('iPhone 14', 35900, 'Electronics')\n",
    "    '''))\n",
    "    \n",
    "    # เพิ่มข้อมูลในตาราง orders \n",
    "    conn.execute(text('''\n",
    "    INSERT INTO orders (product_id, quantity, order_date)\n",
    "    VALUES (1, 2, '2023-10-20')\n",
    "    '''))\n",
    "    \n",
    "    conn.commit()"
   ]
  },
  {
   "cell_type": "markdown",
   "metadata": {},
   "source": [
    "## Faker"
   ]
  },
  {
   "cell_type": "code",
   "execution_count": 3,
   "metadata": {},
   "outputs": [
    {
     "data": {
      "text/plain": [
       "{'name': 'MacBook', 'price': 29207, 'category': 'Electronics'}"
      ]
     },
     "execution_count": 3,
     "metadata": {},
     "output_type": "execute_result"
    }
   ],
   "source": [
    "from faker import Faker\n",
    "\n",
    "# สร้าง Faker object สำหรับภาษาไทย\n",
    "fake = Faker()\n",
    "\n",
    "fake_data = {\n",
    "    \"name\": fake.random_element(elements=(\"iPhone\", \"iPad\", \"MacBook\", \"AirPods\")),\n",
    "    \"price\": fake.random_int(min=100, max=50000),\n",
    "    \"category\": fake.random_element(\n",
    "        elements=(\"Electronics\", \"Clothing\", \"Food\", \"Books\")\n",
    "    ),\n",
    "}\n",
    "fake_data"
   ]
  },
  {
   "cell_type": "markdown",
   "metadata": {},
   "source": [
    "## Faker + SQLite"
   ]
  },
  {
   "cell_type": "code",
   "execution_count": 4,
   "metadata": {},
   "outputs": [
    {
     "data": {
      "text/plain": [
       "{'name': 'AirPods', 'price': 47946, 'category': 'Food'}"
      ]
     },
     "execution_count": 4,
     "metadata": {},
     "output_type": "execute_result"
    }
   ],
   "source": [
    "# สร้างข้อมูลปลอมด้วย Faker\n",
    "fake_product = {\n",
    "    \"name\": fake.random_element(elements=(\"iPhone\", \"iPad\", \"MacBook\", \"AirPods\")),\n",
    "    \"price\": fake.random_int(min=100, max=50000), \n",
    "    \"category\": fake.random_element(elements=(\"Electronics\", \"Clothing\", \"Food\", \"Books\"))\n",
    "}\n",
    "fake_product"
   ]
  },
  {
   "cell_type": "code",
   "execution_count": 5,
   "metadata": {},
   "outputs": [],
   "source": [
    "# เพิ่มข้อมูลลงใน SQLite\n",
    "with engine.connect() as conn:\n",
    "    conn.execute(text('''\n",
    "    INSERT INTO products (name, price, category)\n",
    "    VALUES (:name, :price, :category)\n",
    "    '''), fake_product)\n",
    "    conn.commit()"
   ]
  },
  {
   "cell_type": "markdown",
   "metadata": {},
   "source": [
    "## Pandas"
   ]
  },
  {
   "cell_type": "code",
   "execution_count": 6,
   "metadata": {},
   "outputs": [],
   "source": [
    "import pandas as pd"
   ]
  },
  {
   "cell_type": "markdown",
   "metadata": {},
   "source": [
    "table (dataframe) = index + column + data\n",
    "\n",
    "|index|column1|column2|column3|\n",
    "|---|---|---|---|\n",
    "|0|data01|data02|data03|\n",
    "|1|data11|data12|data13|"
   ]
  },
  {
   "cell_type": "code",
   "execution_count": 7,
   "metadata": {},
   "outputs": [
    {
     "data": {
      "text/html": [
       "<div>\n",
       "<style scoped>\n",
       "    .dataframe tbody tr th:only-of-type {\n",
       "        vertical-align: middle;\n",
       "    }\n",
       "\n",
       "    .dataframe tbody tr th {\n",
       "        vertical-align: top;\n",
       "    }\n",
       "\n",
       "    .dataframe thead th {\n",
       "        text-align: right;\n",
       "    }\n",
       "</style>\n",
       "<table border=\"1\" class=\"dataframe\">\n",
       "  <thead>\n",
       "    <tr style=\"text-align: right;\">\n",
       "      <th></th>\n",
       "      <th>name</th>\n",
       "      <th>age</th>\n",
       "      <th>city</th>\n",
       "    </tr>\n",
       "  </thead>\n",
       "  <tbody>\n",
       "    <tr>\n",
       "      <th>0</th>\n",
       "      <td>สมชาย</td>\n",
       "      <td>25</td>\n",
       "      <td>กรุงเทพ</td>\n",
       "    </tr>\n",
       "    <tr>\n",
       "      <th>1</th>\n",
       "      <td>สมหญิง</td>\n",
       "      <td>30</td>\n",
       "      <td>เชียงใหม่</td>\n",
       "    </tr>\n",
       "    <tr>\n",
       "      <th>2</th>\n",
       "      <td>สมศรี</td>\n",
       "      <td>35</td>\n",
       "      <td>ภูเก็ต</td>\n",
       "    </tr>\n",
       "  </tbody>\n",
       "</table>\n",
       "</div>"
      ],
      "text/plain": [
       "     name  age       city\n",
       "0   สมชาย   25    กรุงเทพ\n",
       "1  สมหญิง   30  เชียงใหม่\n",
       "2   สมศรี   35     ภูเก็ต"
      ]
     },
     "execution_count": 7,
     "metadata": {},
     "output_type": "execute_result"
    }
   ],
   "source": [
    "# สร้าง DataFrame จากข้อมูลพื้นฐาน\n",
    "data = {\n",
    "    'name': ['สมชาย', 'สมหญิง', 'สมศรี'],\n",
    "    'age': [25, 30, 35],\n",
    "    'city': ['กรุงเทพ', 'เชียงใหม่', 'ภูเก็ต']\n",
    "}\n",
    "df = pd.DataFrame(data)\n",
    "df"
   ]
  },
  {
   "cell_type": "code",
   "execution_count": 8,
   "metadata": {},
   "outputs": [
    {
     "data": {
      "text/plain": [
       "0     สมชาย\n",
       "1    สมหญิง\n",
       "2     สมศรี\n",
       "Name: name, dtype: object"
      ]
     },
     "execution_count": 8,
     "metadata": {},
     "output_type": "execute_result"
    }
   ],
   "source": [
    "name_series = df[\"name\"]\n",
    "name_series"
   ]
  },
  {
   "cell_type": "code",
   "execution_count": 10,
   "metadata": {},
   "outputs": [
    {
     "data": {
      "text/html": [
       "<div>\n",
       "<style scoped>\n",
       "    .dataframe tbody tr th:only-of-type {\n",
       "        vertical-align: middle;\n",
       "    }\n",
       "\n",
       "    .dataframe tbody tr th {\n",
       "        vertical-align: top;\n",
       "    }\n",
       "\n",
       "    .dataframe thead th {\n",
       "        text-align: right;\n",
       "    }\n",
       "</style>\n",
       "<table border=\"1\" class=\"dataframe\">\n",
       "  <thead>\n",
       "    <tr style=\"text-align: right;\">\n",
       "      <th></th>\n",
       "      <th>age</th>\n",
       "    </tr>\n",
       "  </thead>\n",
       "  <tbody>\n",
       "    <tr>\n",
       "      <th>0</th>\n",
       "      <td>25</td>\n",
       "    </tr>\n",
       "    <tr>\n",
       "      <th>1</th>\n",
       "      <td>30</td>\n",
       "    </tr>\n",
       "    <tr>\n",
       "      <th>2</th>\n",
       "      <td>35</td>\n",
       "    </tr>\n",
       "  </tbody>\n",
       "</table>\n",
       "</div>"
      ],
      "text/plain": [
       "   age\n",
       "0   25\n",
       "1   30\n",
       "2   35"
      ]
     },
     "execution_count": 10,
     "metadata": {},
     "output_type": "execute_result"
    }
   ],
   "source": [
    "age_series = df[[\"age\"]]\n",
    "age_series"
   ]
  },
  {
   "cell_type": "code",
   "execution_count": 11,
   "metadata": {},
   "outputs": [
    {
     "name": "stdout",
     "output_type": "stream",
     "text": [
      "<class 'pandas.core.frame.DataFrame'>\n",
      "RangeIndex: 3 entries, 0 to 2\n",
      "Data columns (total 3 columns):\n",
      " #   Column  Non-Null Count  Dtype \n",
      "---  ------  --------------  ----- \n",
      " 0   name    3 non-null      object\n",
      " 1   age     3 non-null      int64 \n",
      " 2   city    3 non-null      object\n",
      "dtypes: int64(1), object(2)\n",
      "memory usage: 204.0+ bytes\n"
     ]
    }
   ],
   "source": [
    "df.info()"
   ]
  },
  {
   "cell_type": "code",
   "execution_count": 12,
   "metadata": {},
   "outputs": [
    {
     "data": {
      "text/html": [
       "<div>\n",
       "<style scoped>\n",
       "    .dataframe tbody tr th:only-of-type {\n",
       "        vertical-align: middle;\n",
       "    }\n",
       "\n",
       "    .dataframe tbody tr th {\n",
       "        vertical-align: top;\n",
       "    }\n",
       "\n",
       "    .dataframe thead th {\n",
       "        text-align: right;\n",
       "    }\n",
       "</style>\n",
       "<table border=\"1\" class=\"dataframe\">\n",
       "  <thead>\n",
       "    <tr style=\"text-align: right;\">\n",
       "      <th></th>\n",
       "      <th>age</th>\n",
       "    </tr>\n",
       "  </thead>\n",
       "  <tbody>\n",
       "    <tr>\n",
       "      <th>count</th>\n",
       "      <td>3.0</td>\n",
       "    </tr>\n",
       "    <tr>\n",
       "      <th>mean</th>\n",
       "      <td>30.0</td>\n",
       "    </tr>\n",
       "    <tr>\n",
       "      <th>std</th>\n",
       "      <td>5.0</td>\n",
       "    </tr>\n",
       "    <tr>\n",
       "      <th>min</th>\n",
       "      <td>25.0</td>\n",
       "    </tr>\n",
       "    <tr>\n",
       "      <th>25%</th>\n",
       "      <td>27.5</td>\n",
       "    </tr>\n",
       "    <tr>\n",
       "      <th>50%</th>\n",
       "      <td>30.0</td>\n",
       "    </tr>\n",
       "    <tr>\n",
       "      <th>75%</th>\n",
       "      <td>32.5</td>\n",
       "    </tr>\n",
       "    <tr>\n",
       "      <th>max</th>\n",
       "      <td>35.0</td>\n",
       "    </tr>\n",
       "  </tbody>\n",
       "</table>\n",
       "</div>"
      ],
      "text/plain": [
       "        age\n",
       "count   3.0\n",
       "mean   30.0\n",
       "std     5.0\n",
       "min    25.0\n",
       "25%    27.5\n",
       "50%    30.0\n",
       "75%    32.5\n",
       "max    35.0"
      ]
     },
     "execution_count": 12,
     "metadata": {},
     "output_type": "execute_result"
    }
   ],
   "source": [
    "# แสดงข้อมูลเบื้องต้นของ DataFrame\n",
    "df.describe()"
   ]
  },
  {
   "cell_type": "code",
   "execution_count": 18,
   "metadata": {},
   "outputs": [
    {
     "data": {
      "text/html": [
       "<div>\n",
       "<style scoped>\n",
       "    .dataframe tbody tr th:only-of-type {\n",
       "        vertical-align: middle;\n",
       "    }\n",
       "\n",
       "    .dataframe tbody tr th {\n",
       "        vertical-align: top;\n",
       "    }\n",
       "\n",
       "    .dataframe thead th {\n",
       "        text-align: right;\n",
       "    }\n",
       "</style>\n",
       "<table border=\"1\" class=\"dataframe\">\n",
       "  <thead>\n",
       "    <tr style=\"text-align: right;\">\n",
       "      <th></th>\n",
       "      <th>name</th>\n",
       "      <th>age</th>\n",
       "      <th>city</th>\n",
       "    </tr>\n",
       "  </thead>\n",
       "  <tbody>\n",
       "    <tr>\n",
       "      <th>1</th>\n",
       "      <td>สมหญิง</td>\n",
       "      <td>30</td>\n",
       "      <td>เชียงใหม่</td>\n",
       "    </tr>\n",
       "  </tbody>\n",
       "</table>\n",
       "</div>"
      ],
      "text/plain": [
       "     name  age       city\n",
       "1  สมหญิง   30  เชียงใหม่"
      ]
     },
     "execution_count": 18,
     "metadata": {},
     "output_type": "execute_result"
    }
   ],
   "source": [
    "# Python สามารถนำไปวิเคราะห์ข้อมูลต่อได้\n",
    "df[(df['age']>=30 ) & (df['city']=='เชียงใหม่')]"
   ]
  },
  {
   "cell_type": "markdown",
   "metadata": {},
   "source": [
    "## Pandas + SQLite"
   ]
  },
  {
   "cell_type": "code",
   "execution_count": 19,
   "metadata": {},
   "outputs": [
    {
     "data": {
      "text/html": [
       "<div>\n",
       "<style scoped>\n",
       "    .dataframe tbody tr th:only-of-type {\n",
       "        vertical-align: middle;\n",
       "    }\n",
       "\n",
       "    .dataframe tbody tr th {\n",
       "        vertical-align: top;\n",
       "    }\n",
       "\n",
       "    .dataframe thead th {\n",
       "        text-align: right;\n",
       "    }\n",
       "</style>\n",
       "<table border=\"1\" class=\"dataframe\">\n",
       "  <thead>\n",
       "    <tr style=\"text-align: right;\">\n",
       "      <th></th>\n",
       "      <th>name</th>\n",
       "      <th>age</th>\n",
       "      <th>city</th>\n",
       "    </tr>\n",
       "  </thead>\n",
       "  <tbody>\n",
       "    <tr>\n",
       "      <th>0</th>\n",
       "      <td>สมชาย</td>\n",
       "      <td>25</td>\n",
       "      <td>กรุงเทพ</td>\n",
       "    </tr>\n",
       "    <tr>\n",
       "      <th>1</th>\n",
       "      <td>สมหญิง</td>\n",
       "      <td>30</td>\n",
       "      <td>เชียงใหม่</td>\n",
       "    </tr>\n",
       "    <tr>\n",
       "      <th>2</th>\n",
       "      <td>สมศรี</td>\n",
       "      <td>35</td>\n",
       "      <td>ภูเก็ต</td>\n",
       "    </tr>\n",
       "  </tbody>\n",
       "</table>\n",
       "</div>"
      ],
      "text/plain": [
       "     name  age       city\n",
       "0   สมชาย   25    กรุงเทพ\n",
       "1  สมหญิง   30  เชียงใหม่\n",
       "2   สมศรี   35     ภูเก็ต"
      ]
     },
     "execution_count": 19,
     "metadata": {},
     "output_type": "execute_result"
    }
   ],
   "source": [
    "data = {\n",
    "    'name': ['สมชาย', 'สมหญิง', 'สมศรี'],\n",
    "    'age': [25, 30, 35],\n",
    "    'city': ['กรุงเทพ', 'เชียงใหม่', 'ภูเก็ต']\n",
    "}\n",
    "df = pd.DataFrame(data)\n",
    "df"
   ]
  },
  {
   "cell_type": "code",
   "execution_count": null,
   "metadata": {},
   "outputs": [
    {
     "data": {
      "text/plain": [
       "3"
      ]
     },
     "execution_count": 20,
     "metadata": {},
     "output_type": "execute_result"
    }
   ],
   "source": [
    "# create table and insert\n",
    "df.to_sql('people', engine, if_exists='append', index=False)"
   ]
  },
  {
   "cell_type": "markdown",
   "metadata": {},
   "source": [
    "## Pandas + SQLite + Faker"
   ]
  },
  {
   "cell_type": "code",
   "execution_count": 21,
   "metadata": {},
   "outputs": [
    {
     "data": {
      "text/html": [
       "<div>\n",
       "<style scoped>\n",
       "    .dataframe tbody tr th:only-of-type {\n",
       "        vertical-align: middle;\n",
       "    }\n",
       "\n",
       "    .dataframe tbody tr th {\n",
       "        vertical-align: top;\n",
       "    }\n",
       "\n",
       "    .dataframe thead th {\n",
       "        text-align: right;\n",
       "    }\n",
       "</style>\n",
       "<table border=\"1\" class=\"dataframe\">\n",
       "  <thead>\n",
       "    <tr style=\"text-align: right;\">\n",
       "      <th></th>\n",
       "      <th>name</th>\n",
       "      <th>price</th>\n",
       "      <th>category</th>\n",
       "    </tr>\n",
       "  </thead>\n",
       "  <tbody>\n",
       "    <tr>\n",
       "      <th>0</th>\n",
       "      <td>AirPods</td>\n",
       "      <td>1887</td>\n",
       "      <td>Books</td>\n",
       "    </tr>\n",
       "    <tr>\n",
       "      <th>1</th>\n",
       "      <td>AirPods</td>\n",
       "      <td>33510</td>\n",
       "      <td>Clothing</td>\n",
       "    </tr>\n",
       "    <tr>\n",
       "      <th>2</th>\n",
       "      <td>iPad</td>\n",
       "      <td>33755</td>\n",
       "      <td>Food</td>\n",
       "    </tr>\n",
       "    <tr>\n",
       "      <th>3</th>\n",
       "      <td>iPhone</td>\n",
       "      <td>29075</td>\n",
       "      <td>Clothing</td>\n",
       "    </tr>\n",
       "    <tr>\n",
       "      <th>4</th>\n",
       "      <td>AirPods</td>\n",
       "      <td>13412</td>\n",
       "      <td>Electronics</td>\n",
       "    </tr>\n",
       "  </tbody>\n",
       "</table>\n",
       "</div>"
      ],
      "text/plain": [
       "      name  price     category\n",
       "0  AirPods   1887        Books\n",
       "1  AirPods  33510     Clothing\n",
       "2     iPad  33755         Food\n",
       "3   iPhone  29075     Clothing\n",
       "4  AirPods  13412  Electronics"
      ]
     },
     "execution_count": 21,
     "metadata": {},
     "output_type": "execute_result"
    }
   ],
   "source": [
    "# สร้างข้อมูลปลอมด้วย Faker\n",
    "products = []   \n",
    "for _ in range(100):\n",
    "    product = {\n",
    "        \"name\": fake.random_element(elements=(\"iPhone\", \"iPad\", \"MacBook\", \"AirPods\")),\n",
    "    \"price\": fake.random_int(min=100, max=50000), \n",
    "        \"category\": fake.random_element(elements=(\"Electronics\", \"Clothing\", \"Food\", \"Books\"))\n",
    "    }\n",
    "    products.append(product)\n",
    "\n",
    "# สร้าง DataFrame สำหรับสินค้า\n",
    "df_products = pd.DataFrame(products)\n",
    "df_products.head()"
   ]
  },
  {
   "cell_type": "code",
   "execution_count": 22,
   "metadata": {},
   "outputs": [
    {
     "data": {
      "text/plain": [
       "100"
      ]
     },
     "execution_count": 22,
     "metadata": {},
     "output_type": "execute_result"
    }
   ],
   "source": [
    "df_products.to_sql('products', engine, if_exists='append', index=False)"
   ]
  },
  {
   "cell_type": "markdown",
   "metadata": {},
   "source": [
    "## Challege: สร้างข้อมูลลูกค้าโดยใช้ Faker และ Pandas และเพิ่มลงใน SQLite ทุก 5 วินาที"
   ]
  },
  {
   "cell_type": "code",
   "execution_count": 23,
   "metadata": {},
   "outputs": [
    {
     "data": {
      "text/html": [
       "<div>\n",
       "<style scoped>\n",
       "    .dataframe tbody tr th:only-of-type {\n",
       "        vertical-align: middle;\n",
       "    }\n",
       "\n",
       "    .dataframe tbody tr th {\n",
       "        vertical-align: top;\n",
       "    }\n",
       "\n",
       "    .dataframe thead th {\n",
       "        text-align: right;\n",
       "    }\n",
       "</style>\n",
       "<table border=\"1\" class=\"dataframe\">\n",
       "  <thead>\n",
       "    <tr style=\"text-align: right;\">\n",
       "      <th></th>\n",
       "      <th>customer_id</th>\n",
       "      <th>name</th>\n",
       "      <th>email</th>\n",
       "      <th>phone</th>\n",
       "      <th>address</th>\n",
       "      <th>segment</th>\n",
       "      <th>join_date</th>\n",
       "      <th>loyalty_points</th>\n",
       "    </tr>\n",
       "  </thead>\n",
       "  <tbody>\n",
       "    <tr>\n",
       "      <th>0</th>\n",
       "      <td>2119eb95-8cb4-4ec3-b9d2-02f71f8df64d</td>\n",
       "      <td>Timothy Gonzalez</td>\n",
       "      <td>cassandra93@example.org</td>\n",
       "      <td>+1-882-350-8598x61196</td>\n",
       "      <td>759 Jordan Pike\\nPort Kathleenborough, UT 08587</td>\n",
       "      <td>In-Store</td>\n",
       "      <td>2024-11-30 10:30:39.518697+07:00</td>\n",
       "      <td>16</td>\n",
       "    </tr>\n",
       "    <tr>\n",
       "      <th>1</th>\n",
       "      <td>34c02f21-6ec2-4960-b1b1-3e5a54262ed2</td>\n",
       "      <td>Katrina Robinson</td>\n",
       "      <td>kristen90@example.com</td>\n",
       "      <td>2098023442</td>\n",
       "      <td>88239 Luna Plain\\nLake Tiffanybury, MT 88106</td>\n",
       "      <td>Online</td>\n",
       "      <td>2024-11-30 10:30:39.526807+07:00</td>\n",
       "      <td>936</td>\n",
       "    </tr>\n",
       "  </tbody>\n",
       "</table>\n",
       "</div>"
      ],
      "text/plain": [
       "                            customer_id              name  \\\n",
       "0  2119eb95-8cb4-4ec3-b9d2-02f71f8df64d  Timothy Gonzalez   \n",
       "1  34c02f21-6ec2-4960-b1b1-3e5a54262ed2  Katrina Robinson   \n",
       "\n",
       "                     email                  phone  \\\n",
       "0  cassandra93@example.org  +1-882-350-8598x61196   \n",
       "1    kristen90@example.com             2098023442   \n",
       "\n",
       "                                           address   segment  \\\n",
       "0  759 Jordan Pike\\nPort Kathleenborough, UT 08587  In-Store   \n",
       "1     88239 Luna Plain\\nLake Tiffanybury, MT 88106    Online   \n",
       "\n",
       "                         join_date  loyalty_points  \n",
       "0 2024-11-30 10:30:39.518697+07:00              16  \n",
       "1 2024-11-30 10:30:39.526807+07:00             936  "
      ]
     },
     "execution_count": 23,
     "metadata": {},
     "output_type": "execute_result"
    }
   ],
   "source": [
    "# faker to df\n",
    "import faker\n",
    "import pandas as pd\n",
    "import time\n",
    "import pendulum\n",
    "\n",
    "# สร้าง Faker object สำหรับสร้างข้อมูลปลอม\n",
    "fake = faker.Faker()\n",
    "def generate_customers(num_customers):\n",
    "    customers = []\n",
    "    for _ in range(num_customers):  # สร้าง 5 รายการ\n",
    "        customer = {\n",
    "            'customer_id': fake.uuid4(),\n",
    "            'name': fake.name(),\n",
    "            'email': fake.email(), \n",
    "            'phone': fake.phone_number(),\n",
    "            'address': fake.address(),\n",
    "            'segment': fake.random_element(['Retail', 'Wholesale', 'Online', 'In-Store']),\n",
    "            'join_date': pendulum.now('Asia/Bangkok'),\n",
    "            'loyalty_points': fake.random_int(min=0, max=1000)\n",
    "        }\n",
    "        customers.append(customer)\n",
    "    return customers\n",
    "customers = generate_customers(2)\n",
    "customer_df = pd.DataFrame(customers)\n",
    "customer_df"
   ]
  },
  {
   "cell_type": "code",
   "execution_count": 25,
   "metadata": {},
   "outputs": [
    {
     "name": "stdout",
     "output_type": "stream",
     "text": [
      "Created 5 customers at 03:43:48\n",
      "Created 5 customers at 03:43:53\n",
      "Created 5 customers at 03:43:58\n",
      "Created 5 customers at 03:44:03\n",
      "Created 5 customers at 03:44:08\n",
      "Created 5 customers at 03:44:13\n",
      "Created 5 customers at 03:44:18\n",
      "Created 5 customers at 03:44:23\n",
      "Created 5 customers at 03:44:28\n",
      "Created 5 customers at 03:44:33\n"
     ]
    },
    {
     "ename": "KeyboardInterrupt",
     "evalue": "",
     "output_type": "error",
     "traceback": [
      "\u001b[0;31m---------------------------------------------------------------------------\u001b[0m",
      "\u001b[0;31mKeyboardInterrupt\u001b[0m                         Traceback (most recent call last)",
      "Cell \u001b[0;32mIn[25], line 15\u001b[0m\n\u001b[1;32m     13\u001b[0m customer_df\u001b[38;5;241m.\u001b[39mto_sql(\u001b[38;5;124m'\u001b[39m\u001b[38;5;124mcustomers\u001b[39m\u001b[38;5;124m'\u001b[39m, engine, if_exists\u001b[38;5;241m=\u001b[39m\u001b[38;5;124m'\u001b[39m\u001b[38;5;124mappend\u001b[39m\u001b[38;5;124m'\u001b[39m, index\u001b[38;5;241m=\u001b[39m\u001b[38;5;28;01mFalse\u001b[39;00m)\n\u001b[1;32m     14\u001b[0m \u001b[38;5;28mprint\u001b[39m(\u001b[38;5;124mf\u001b[39m\u001b[38;5;124m\"\u001b[39m\u001b[38;5;124mCreated \u001b[39m\u001b[38;5;132;01m{\u001b[39;00m\u001b[38;5;28mlen\u001b[39m(customers)\u001b[38;5;132;01m}\u001b[39;00m\u001b[38;5;124m customers at \u001b[39m\u001b[38;5;132;01m{\u001b[39;00mtime\u001b[38;5;241m.\u001b[39mstrftime(\u001b[38;5;124m'\u001b[39m\u001b[38;5;124m%\u001b[39m\u001b[38;5;124mH:\u001b[39m\u001b[38;5;124m%\u001b[39m\u001b[38;5;124mM:\u001b[39m\u001b[38;5;124m%\u001b[39m\u001b[38;5;124mS\u001b[39m\u001b[38;5;124m'\u001b[39m)\u001b[38;5;132;01m}\u001b[39;00m\u001b[38;5;124m\"\u001b[39m)\n\u001b[0;32m---> 15\u001b[0m \u001b[43mtime\u001b[49m\u001b[38;5;241;43m.\u001b[39;49m\u001b[43msleep\u001b[49m\u001b[43m(\u001b[49m\u001b[38;5;241;43m5\u001b[39;49m\u001b[43m)\u001b[49m\n",
      "\u001b[0;31mKeyboardInterrupt\u001b[0m: "
     ]
    }
   ],
   "source": [
    "# df to sqlite\n",
    "\n",
    "# เปลี่ยนจาก sqlite3 เป็น sqlalchemy\n",
    "from sqlalchemy import create_engine, text\n",
    "\n",
    "# สร้าง engine แทนการใช้ connect โดยตรง\n",
    "engine = create_engine('sqlite:///mysqlite01.db')\n",
    "\n",
    "# สร้างข้อมูลลูกค้า\n",
    "while True:\n",
    "    customers = generate_customers(5)\n",
    "    customer_df = pd.DataFrame(customers)\n",
    "    customer_df.to_sql('customers', engine, if_exists='append', index=False)\n",
    "    print(f\"Created {len(customers)} customers at {time.strftime('%H:%M:%S')}\")\n",
    "    time.sleep(5)"
   ]
  },
  {
   "cell_type": "markdown",
   "metadata": {},
   "source": [
    "## Final App"
   ]
  },
  {
   "cell_type": "code",
   "execution_count": null,
   "metadata": {},
   "outputs": [],
   "source": [
    "import faker\n",
    "import pandas as pd\n",
    "import time\n",
    "# เปลี่ยนจาก sqlite3 เป็น sqlalchemy\n",
    "from sqlalchemy import create_engine, text\n",
    "\n",
    "# สร้าง engine แทนการใช้ connect โดยตรง\n",
    "engine = create_engine('sqlite:///mysqlite01.db')\n",
    "# สร้าง Faker object สำหรับสร้างข้อมูลปลอม\n",
    "fake = faker.Faker()\n",
    "\n",
    "def generate_customers(num_customers):\n",
    "    customers = []\n",
    "    for _ in range(num_customers):  # สร้าง 5 รายการ\n",
    "        customer = {\n",
    "            'customer_id': fake.uuid4(),\n",
    "            'name': fake.name(),\n",
    "            'email': fake.email(), \n",
    "            'phone': fake.phone_number(),\n",
    "            'address': fake.address(),\n",
    "            'segment': fake.random_element(['Retail', 'Wholesale', 'Online', 'In-Store']),\n",
    "            'join_date': pendulum.now('Asia/Bangkok'),\n",
    "            'loyalty_points': fake.random_int(min=0, max=1000)\n",
    "        }\n",
    "        customers.append(customer)\n",
    "    return customers\n",
    "\n",
    "# สร้างข้อมูลลูกค้า\n",
    "while True:\n",
    "    customers = generate_customers(5)\n",
    "    customer_df = pd.DataFrame(customers)\n",
    "    customer_df.to_sql('customers', engine, if_exists='append', index=False)\n",
    "    print(f\"Created {len(customers)} customers at {time.strftime('%H:%M:%S')}\")\n",
    "    time.sleep(5)"
   ]
  },
  {
   "cell_type": "code",
   "execution_count": null,
   "metadata": {},
   "outputs": [],
   "source": [
    "# Python สามารถ generate data เข้า database แบบ realtime ได้แล้ว"
   ]
  },
  {
   "cell_type": "markdown",
   "metadata": {},
   "source": [
    "## Congratulation!!"
   ]
  }
 ],
 "metadata": {
  "kernelspec": {
   "display_name": "Python 3",
   "language": "python",
   "name": "python3"
  },
  "language_info": {
   "codemirror_mode": {
    "name": "ipython",
    "version": 3
   },
   "file_extension": ".py",
   "mimetype": "text/x-python",
   "name": "python",
   "nbconvert_exporter": "python",
   "pygments_lexer": "ipython3",
   "version": "3.12.1"
  }
 },
 "nbformat": 4,
 "nbformat_minor": 2
}
